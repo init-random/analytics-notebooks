{
 "cells": [
  {
   "cell_type": "markdown",
   "metadata": {
    "collapsed": true
   },
   "source": [
    "# Chapter 2"
   ]
  },
  {
   "cell_type": "markdown",
   "metadata": {},
   "source": [
    "### Chapter Summary\n",
    "\n",
    "**Discrete Prior**\n",
    "\n",
    "We have a set of probabilities $p$ and $g(p)$ is the prior distribution over $p$. We also have\n",
    "\n",
    "$$g(p | data) \\propto L(p)g(p)$$\n",
    "\n",
    "were $L(p)$ is the likelihood. The product is of this and the prior is proportional to the posterior distribution $g(p | data)$. The likelihood in this context is defined as a binomial model\n",
    "\n",
    "$$L(p) \\propto p^s (1-p)^f$$\n",
    "\n",
    "where $s$ is the number of successes and $f$ is the number of failures. Relative to the example in the book, $s$ is number of student who had greater than 8 hours of sleep per night and $f$ the number that did not. As we will see below, calculation with a discrete prior utilizes the `LearnBayes` function `pdisc`. As an implementation detail, we have that $p$ is a vector. The likelihood function is calculated element-wise as well as the prior. So the posterior is also a vector, a distribution of probabilities over $p.$\n",
    "\n",
    "**A Beta Prior**\n",
    "\n",
    "Here everything else is the same except how the prior $g(p)$ is modeled:\n",
    "\n",
    "$$g(p) \\propto p^{\\alpha - 1} (1 - p)^{\\beta - 1}.$$\n",
    "\n",
    "Why use a beta prior? When the posterior distribution is of the same family as the prior it is called conjugate prior. Here the posterior is\n",
    "\n",
    "$$g(p | data) \\propto L(p)g(p) = p^{\\alpha +s - 1} (1 - p)^{\\beta +f - 1}.$$\n",
    "\n",
    "How are the hyperparameters $\\alpha$ and $\\beta$ modeled? Typically through quantile estimates and we can use the function `beta.select`.\n",
    "\n",
    "**Bayesian Prediction**\n",
    "\n",
    "The predictive density of $\\tilde{y}$ is \n",
    "\n",
    "$$f(\\tilde{y}) = \\int f(\\tilde{y} | p) g(p) dp.$$"
   ]
  },
  {
   "cell_type": "markdown",
   "metadata": {},
   "source": [
    "## Section 2.9\n",
    "### 1) Estimate a proportion from a discrete prior"
   ]
  },
  {
   "cell_type": "code",
   "execution_count": 13,
   "metadata": {
    "collapsed": true
   },
   "outputs": [],
   "source": [
    "library(LearnBayes)"
   ]
  },
  {
   "cell_type": "code",
   "execution_count": 19,
   "metadata": {
    "collapsed": true
   },
   "outputs": [],
   "source": [
    "p <- seq(0, 1, .125)"
   ]
  },
  {
   "cell_type": "markdown",
   "metadata": {},
   "source": [
    "prior: $g(p)$"
   ]
  },
  {
   "cell_type": "code",
   "execution_count": 16,
   "metadata": {
    "collapsed": true
   },
   "outputs": [],
   "source": [
    "prior <- c(.001, .001, .950, .008,  .008, .008, .008, .008, .008)"
   ]
  },
  {
   "cell_type": "code",
   "execution_count": 36,
   "metadata": {
    "collapsed": false
   },
   "outputs": [
    {
     "data": {
      "text/html": [
       "<ol class=list-inline>\n",
       "\t<li>0</li>\n",
       "\t<li>2.22580739030907e-05</li>\n",
       "\t<li>0.730472718753458</li>\n",
       "\t<li>0.0337903704193108</li>\n",
       "\t<li>0.0777652048346761</li>\n",
       "\t<li>0.0938621400536412</li>\n",
       "\t<li>0.0553621428949989</li>\n",
       "\t<li>0.00872516497001152</li>\n",
       "\t<li>0</li>\n",
       "</ol>\n"
      ],
      "text/latex": [
       "\\begin{enumerate*}\n",
       "\\item 0\n",
       "\\item 2.22580739030907e-05\n",
       "\\item 0.730472718753458\n",
       "\\item 0.0337903704193108\n",
       "\\item 0.0777652048346761\n",
       "\\item 0.0938621400536412\n",
       "\\item 0.0553621428949989\n",
       "\\item 0.00872516497001152\n",
       "\\item 0\n",
       "\\end{enumerate*}\n"
      ],
      "text/markdown": [
       "1. 0\n",
       "2. 2.22580739030907e-05\n",
       "3. 0.730472718753458\n",
       "4. 0.0337903704193108\n",
       "5. 0.0777652048346761\n",
       "6. 0.0938621400536412\n",
       "7. 0.0553621428949989\n",
       "8. 0.00872516497001152\n",
       "9. 0\n",
       "\n",
       "\n"
      ],
      "text/plain": [
       "[1] 0.000000e+00 2.225807e-05 7.304727e-01 3.379037e-02 7.776520e-02\n",
       "[6] 9.386214e-02 5.536214e-02 8.725165e-03 0.000000e+00"
      ]
     },
     "execution_count": 36,
     "metadata": {},
     "output_type": "execute_result"
    }
   ],
   "source": [
    "data <- c(6, 4)\n",
    "pdisc(p, prior, data)"
   ]
  },
  {
   "cell_type": "code",
   "execution_count": null,
   "metadata": {
    "collapsed": false
   },
   "outputs": [],
   "source": []
  },
  {
   "cell_type": "code",
   "execution_count": null,
   "metadata": {
    "collapsed": false
   },
   "outputs": [],
   "source": []
  },
  {
   "cell_type": "code",
   "execution_count": null,
   "metadata": {
    "collapsed": false
   },
   "outputs": [],
   "source": []
  },
  {
   "cell_type": "code",
   "execution_count": null,
   "metadata": {
    "collapsed": false
   },
   "outputs": [],
   "source": []
  },
  {
   "cell_type": "code",
   "execution_count": null,
   "metadata": {
    "collapsed": false
   },
   "outputs": [],
   "source": []
  },
  {
   "cell_type": "code",
   "execution_count": null,
   "metadata": {
    "collapsed": true
   },
   "outputs": [],
   "source": []
  },
  {
   "cell_type": "code",
   "execution_count": null,
   "metadata": {
    "collapsed": true
   },
   "outputs": [],
   "source": []
  },
  {
   "cell_type": "code",
   "execution_count": null,
   "metadata": {
    "collapsed": false
   },
   "outputs": [],
   "source": []
  }
 ],
 "metadata": {
  "kernelspec": {
   "display_name": "R",
   "language": "R",
   "name": "ir"
  },
  "language_info": {
   "codemirror_mode": "r",
   "file_extension": ".r",
   "mimetype": "text/x-r-source",
   "name": "R",
   "pygments_lexer": "r",
   "version": "3.2.2"
  }
 },
 "nbformat": 4,
 "nbformat_minor": 0
}
